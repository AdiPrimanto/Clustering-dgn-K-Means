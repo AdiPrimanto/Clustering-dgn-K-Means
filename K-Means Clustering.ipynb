{
 "cells": [
  {
   "cell_type": "code",
   "execution_count": 2,
   "metadata": {},
   "outputs": [
    {
     "data": {
      "text/html": [
       "<div>\n",
       "<style scoped>\n",
       "    .dataframe tbody tr th:only-of-type {\n",
       "        vertical-align: middle;\n",
       "    }\n",
       "\n",
       "    .dataframe tbody tr th {\n",
       "        vertical-align: top;\n",
       "    }\n",
       "\n",
       "    .dataframe thead th {\n",
       "        text-align: right;\n",
       "    }\n",
       "</style>\n",
       "<table border=\"1\" class=\"dataframe\">\n",
       "  <thead>\n",
       "    <tr style=\"text-align: right;\">\n",
       "      <th></th>\n",
       "      <th>Title</th>\n",
       "      <th>Type</th>\n",
       "      <th>Episodes</th>\n",
       "      <th>Status</th>\n",
       "      <th>Start airing</th>\n",
       "      <th>End airing</th>\n",
       "      <th>Starting season</th>\n",
       "      <th>Broadcast time</th>\n",
       "      <th>Producers</th>\n",
       "      <th>Licensors</th>\n",
       "      <th>Studios</th>\n",
       "      <th>Sources</th>\n",
       "      <th>Genres</th>\n",
       "      <th>Duration</th>\n",
       "      <th>Rating</th>\n",
       "      <th>Score</th>\n",
       "      <th>Scored by</th>\n",
       "      <th>Members</th>\n",
       "      <th>Favorites</th>\n",
       "      <th>Description</th>\n",
       "    </tr>\n",
       "  </thead>\n",
       "  <tbody>\n",
       "    <tr>\n",
       "      <th>0</th>\n",
       "      <td>Fullmetal Alchemist: Brotherhood</td>\n",
       "      <td>TV</td>\n",
       "      <td>64</td>\n",
       "      <td>Finished Airing</td>\n",
       "      <td>2009-4-5</td>\n",
       "      <td>2010-7-4</td>\n",
       "      <td>Spring</td>\n",
       "      <td>Sundays at 17:00 (JST)</td>\n",
       "      <td>Aniplex,Square Enix,Mainichi Broadcasting Syst...</td>\n",
       "      <td>Funimation,Aniplex of America</td>\n",
       "      <td>Bones</td>\n",
       "      <td>Manga</td>\n",
       "      <td>Action,Military,Adventure,Comedy,Drama,Magic,F...</td>\n",
       "      <td>24 min. per ep.</td>\n",
       "      <td>R</td>\n",
       "      <td>9.25</td>\n",
       "      <td>719706</td>\n",
       "      <td>1176368</td>\n",
       "      <td>105387</td>\n",
       "      <td>\"In order for something to be obtained, someth...</td>\n",
       "    </tr>\n",
       "    <tr>\n",
       "      <th>1</th>\n",
       "      <td>Kimi no Na wa.</td>\n",
       "      <td>Movie</td>\n",
       "      <td>1</td>\n",
       "      <td>Finished Airing</td>\n",
       "      <td>2016-8-26</td>\n",
       "      <td>-</td>\n",
       "      <td>-</td>\n",
       "      <td>-</td>\n",
       "      <td>Kadokawa Shoten,Toho,Sound Team Don Juan,Lawso...</td>\n",
       "      <td>Funimation,NYAV Post</td>\n",
       "      <td>CoMix Wave Films</td>\n",
       "      <td>Original</td>\n",
       "      <td>Supernatural,Drama,Romance,School</td>\n",
       "      <td>1 hr. 46 min.</td>\n",
       "      <td>PG-13</td>\n",
       "      <td>9.19</td>\n",
       "      <td>454969</td>\n",
       "      <td>705186</td>\n",
       "      <td>33936</td>\n",
       "      <td>Mitsuha Miyamizu, a high school girl, yearns t...</td>\n",
       "    </tr>\n",
       "    <tr>\n",
       "      <th>2</th>\n",
       "      <td>Gintama°</td>\n",
       "      <td>TV</td>\n",
       "      <td>51</td>\n",
       "      <td>Finished Airing</td>\n",
       "      <td>2015-4-8</td>\n",
       "      <td>2016-3-30</td>\n",
       "      <td>Spring</td>\n",
       "      <td>Wednesdays at 18:00 (JST)</td>\n",
       "      <td>TV Tokyo,Aniplex,Dentsu</td>\n",
       "      <td>Funimation,Crunchyroll</td>\n",
       "      <td>Bandai Namco Pictures</td>\n",
       "      <td>Manga</td>\n",
       "      <td>Action,Comedy,Historical,Parody,Samurai,Sci-Fi...</td>\n",
       "      <td>24 min. per ep.</td>\n",
       "      <td>R</td>\n",
       "      <td>9.16</td>\n",
       "      <td>70279</td>\n",
       "      <td>194359</td>\n",
       "      <td>5597</td>\n",
       "      <td>Gintoki, Shinpachi, and Kagura return as the f...</td>\n",
       "    </tr>\n",
       "    <tr>\n",
       "      <th>3</th>\n",
       "      <td>Steins;Gate 0</td>\n",
       "      <td>TV</td>\n",
       "      <td>23</td>\n",
       "      <td>Currently Airing</td>\n",
       "      <td>2018-4-12</td>\n",
       "      <td>-</td>\n",
       "      <td>Spring</td>\n",
       "      <td>Thursdays at 01:35 (JST)</td>\n",
       "      <td>Nitroplus</td>\n",
       "      <td>Funimation</td>\n",
       "      <td>White Fox</td>\n",
       "      <td>Visual novel</td>\n",
       "      <td>Sci-Fi,Thriller</td>\n",
       "      <td>23 min. per ep.</td>\n",
       "      <td>PG-13</td>\n",
       "      <td>9.16</td>\n",
       "      <td>12609</td>\n",
       "      <td>186331</td>\n",
       "      <td>1117</td>\n",
       "      <td>The dark untold story of Steins;Gate that lead...</td>\n",
       "    </tr>\n",
       "    <tr>\n",
       "      <th>4</th>\n",
       "      <td>Steins;Gate</td>\n",
       "      <td>TV</td>\n",
       "      <td>24</td>\n",
       "      <td>Finished Airing</td>\n",
       "      <td>2011-4-6</td>\n",
       "      <td>2011-9-14</td>\n",
       "      <td>Spring</td>\n",
       "      <td>Wednesdays at 02:05 (JST)</td>\n",
       "      <td>Frontier Works,Media Factory,Movic,AT-X,Kadoka...</td>\n",
       "      <td>Funimation</td>\n",
       "      <td>White Fox</td>\n",
       "      <td>Visual novel</td>\n",
       "      <td>Sci-Fi,Thriller</td>\n",
       "      <td>24 min. per ep.</td>\n",
       "      <td>PG-13</td>\n",
       "      <td>9.14</td>\n",
       "      <td>552791</td>\n",
       "      <td>990419</td>\n",
       "      <td>90365</td>\n",
       "      <td>The self-proclaimed mad scientist Rintarou Oka...</td>\n",
       "    </tr>\n",
       "  </tbody>\n",
       "</table>\n",
       "</div>"
      ],
      "text/plain": [
       "                              Title   Type Episodes            Status  \\\n",
       "0  Fullmetal Alchemist: Brotherhood     TV       64   Finished Airing   \n",
       "1                    Kimi no Na wa.  Movie        1   Finished Airing   \n",
       "2                          Gintama°     TV       51   Finished Airing   \n",
       "3                     Steins;Gate 0     TV       23  Currently Airing   \n",
       "4                       Steins;Gate     TV       24   Finished Airing   \n",
       "\n",
       "  Start airing End airing Starting season             Broadcast time  \\\n",
       "0     2009-4-5   2010-7-4          Spring     Sundays at 17:00 (JST)   \n",
       "1    2016-8-26          -               -                          -   \n",
       "2     2015-4-8  2016-3-30          Spring  Wednesdays at 18:00 (JST)   \n",
       "3    2018-4-12          -          Spring   Thursdays at 01:35 (JST)   \n",
       "4     2011-4-6  2011-9-14          Spring  Wednesdays at 02:05 (JST)   \n",
       "\n",
       "                                           Producers  \\\n",
       "0  Aniplex,Square Enix,Mainichi Broadcasting Syst...   \n",
       "1  Kadokawa Shoten,Toho,Sound Team Don Juan,Lawso...   \n",
       "2                            TV Tokyo,Aniplex,Dentsu   \n",
       "3                                          Nitroplus   \n",
       "4  Frontier Works,Media Factory,Movic,AT-X,Kadoka...   \n",
       "\n",
       "                       Licensors                Studios       Sources  \\\n",
       "0  Funimation,Aniplex of America                  Bones         Manga   \n",
       "1           Funimation,NYAV Post       CoMix Wave Films      Original   \n",
       "2         Funimation,Crunchyroll  Bandai Namco Pictures         Manga   \n",
       "3                     Funimation              White Fox  Visual novel   \n",
       "4                     Funimation              White Fox  Visual novel   \n",
       "\n",
       "                                              Genres         Duration Rating  \\\n",
       "0  Action,Military,Adventure,Comedy,Drama,Magic,F...  24 min. per ep.      R   \n",
       "1                  Supernatural,Drama,Romance,School    1 hr. 46 min.  PG-13   \n",
       "2  Action,Comedy,Historical,Parody,Samurai,Sci-Fi...  24 min. per ep.      R   \n",
       "3                                    Sci-Fi,Thriller  23 min. per ep.  PG-13   \n",
       "4                                    Sci-Fi,Thriller  24 min. per ep.  PG-13   \n",
       "\n",
       "   Score  Scored by  Members  Favorites  \\\n",
       "0   9.25     719706  1176368     105387   \n",
       "1   9.19     454969   705186      33936   \n",
       "2   9.16      70279   194359       5597   \n",
       "3   9.16      12609   186331       1117   \n",
       "4   9.14     552791   990419      90365   \n",
       "\n",
       "                                         Description  \n",
       "0  \"In order for something to be obtained, someth...  \n",
       "1  Mitsuha Miyamizu, a high school girl, yearns t...  \n",
       "2  Gintoki, Shinpachi, and Kagura return as the f...  \n",
       "3  The dark untold story of Steins;Gate that lead...  \n",
       "4  The self-proclaimed mad scientist Rintarou Oka...  "
      ]
     },
     "execution_count": 2,
     "metadata": {},
     "output_type": "execute_result"
    }
   ],
   "source": [
    "import pandas as pd\n",
    "\n",
    "anime = pd.read_csv('dataanime-norm.csv')\n",
    "anime.head(5)"
   ]
  },
  {
   "cell_type": "code",
   "execution_count": 8,
   "metadata": {},
   "outputs": [
    {
     "data": {
      "text/plain": [
       "[<matplotlib.lines.Line2D at 0x10fd45090>]"
      ]
     },
     "execution_count": 8,
     "metadata": {},
     "output_type": "execute_result"
    },
    {
     "data": {
      "image/png": "[encoded data removed]",
      "text/plain": [
       "<matplotlib.figure.Figure at 0x10fd3aa50>"
      ]
     },
     "metadata": {},
     "output_type": "display_data"
    }
   ],
   "source": [
    "import matplotlib.pyplot as plt\n",
    "import numpy as np\n",
    "animedata = np.log(anime[['Members','Favorites']].head(500))\n",
    "plt.plot(animedata['Members'],animedata['Favorites'],'.')"
   ]
  },
  {
   "cell_type": "code",
   "execution_count": 28,
   "metadata": {},
   "outputs": [
    {
     "name": "stdout",
     "output_type": "stream",
     "text": [
      "     Members  Favorites\n",
      "0  13.977942  11.565395\n",
      "1  13.466217  10.432232\n",
      "2  12.177462   8.629986\n",
      "3  12.135280   7.018402\n",
      "4  13.805883  11.411612\n",
      "[0 0 0 2 0]\n"
     ]
    }
   ],
   "source": [
    "#K-Means Clustering\n",
    "from sklearn.cluster import KMeans\n",
    "from sklearn.metrics.pairwise import pairwise_distances_argmin\n",
    "\n",
    "klaster = 3\n",
    "\n",
    "kmeans = KMeans(n_clusters=klaster, init='k-means++')\n",
    "kmeans.fit(animedata.values)\n",
    "\n",
    "labels = pairwise_distances_argmin(animedata.values, kmeans.cluster_centers_)\n",
    "\n",
    "print animedata.head(5)\n",
    "print labels[0:5]"
   ]
  },
  {
   "cell_type": "code",
   "execution_count": 38,
   "metadata": {},
   "outputs": [
    {
     "data": {
      "image/png": "[encoded data removed]",
      "text/plain": [
       "<matplotlib.figure.Figure at 0x1a1a032850>"
      ]
     },
     "metadata": {},
     "output_type": "display_data"
    }
   ],
   "source": [
    "colors = ['red','blue','green']\n",
    "\n",
    "for k, col in zip(range(klaster),colors):\n",
    "    members = (labels == k)\n",
    "    \n",
    "    plt.plot(animedata.values[members,0], animedata.values[members,1],'o',markerfacecolor=col,marker='o',markeredgecolor=col)\n",
    "    "
   ]
  },
  {
   "cell_type": "code",
   "execution_count": 45,
   "metadata": {},
   "outputs": [
    {
     "name": "stdout",
     "output_type": "stream",
     "text": [
      "set([0, 1, 2, -1])\n"
     ]
    },
    {
     "data": {
      "image/png": "[encoded data removed]",
      "text/plain": [
       "<matplotlib.figure.Figure at 0x1a19fc9810>"
      ]
     },
     "metadata": {},
     "output_type": "display_data"
    }
   ],
   "source": [
    "# DBScan\n",
    "\n",
    "from sklearn.cluster import DBSCAN\n",
    "\n",
    "dbs = DBSCAN(eps=0.3, min_samples=10)\n",
    "dbs.fit(animedata.values)\n",
    "\n",
    "labels = set(dbs.labels_)\n",
    "print labels\n",
    "\n",
    "colors = ['red','blue','green','k']\n",
    "\n",
    "for k, col in zip(labels,colors):\n",
    "    if k == -1:\n",
    "        col = 'k'\n",
    "    \n",
    "    members = (dbs.labels_ == k)\n",
    "    plt.plot(animedata.values[members,0], animedata.values[members,1],'o',markerfacecolor=col,marker='o',markeredgecolor=col)"
   ]
  },
  {
   "cell_type": "code",
   "execution_count": null,
   "metadata": {},
   "outputs": [],
   "source": []
  }
 ],
 "metadata": {
  "kernelspec": {
   "display_name": "Python 2",
   "language": "python",
   "name": "python2"
  },
  "language_info": {
   "codemirror_mode": {
    "name": "ipython",
    "version": 2
   },
   "file_extension": ".py",
   "mimetype": "text/x-python",
   "name": "python",
   "nbconvert_exporter": "python",
   "pygments_lexer": "ipython2",
   "version": "2.7.14"
  }
 },
 "nbformat": 4,
 "nbformat_minor": 2
}
